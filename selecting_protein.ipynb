{
 "cells": [
  {
   "cell_type": "code",
   "execution_count": 1,
   "id": "c792572b",
   "metadata": {},
   "outputs": [
    {
     "name": "stdout",
     "output_type": "stream",
     "text": [
      "  % Total    % Received % Xferd  Average Speed   Time    Time     Time  Current\n",
      "                                 Dload  Upload   Total   Spent    Left  Speed\n",
      "100 13.7G  100 13.7G    0     0  15.4M      0  0:15:08  0:15:08 --:--:-- 17.9M  13.6M      0  0:17:05  0:00:23  0:16:42 13.3M04  0:00:33  0:16:31 13.7M3.9M      0  0:16:44  0:00:44  0:16:00 14.7M4.8M      0  0:15:45  0:01:01  0:14:44 18.0M0  14.9M      0  0:15:42  0:01:03  0:14:39 17.9M  0:01:11  0:14:03 17.7M5.4M      0  0:15:11  0:01:14  0:13:57 17.1M  0  15.9M      0  0:14:41  0:01:47  0:12:54 18.6M 0:02:13  0:12:14 18.9M0     0  16.9M      0  0:13:47  0:02:52  0:10:55 15.2M 0     0  16.9M      0  0:13:50  0:03:28  0:10:22 19.0M 17.0M      0  0:13:41  0:03:58  0:09:43 19.3M      0  0:13:37  0:04:11  0:09:26 18.5M 0  0:13:38  0:04:22  0:09:16 16.1M.1M      0  0:13:38  0:04:31  0:09:07 17.6M  0     0  17.0M      0  0:13:43  0:05:18  0:08:25 17.5M  0:05:36  0:08:11 15.7M  17.0M      0  0:13:45  0:05:45  0:08:00 19.1M0:05:56  0:07:46 18.1M    0  17.0M      0  0:13:42  0:06:03  0:07:39 17.8M13:42  0:06:05  0:07:37 16.9M1M      0  0:13:41  0:06:07  0:07:34 17.1M  46 6567M    0     0  17.1M      0  0:13:39  0:06:23  0:07:16 17.4M:13:39  0:06:25  0:07:14 18.3M   0  0:13:38  0:06:27  0:07:11 18.5M0  17.1M      0  0:13:38  0:06:29  0:07:09 19.2M  17.1M      0  0:13:37  0:06:31  0:07:06 19.6M 0     0  17.2M      0  0:13:35  0:07:08  0:06:27 13.1M      0  0:13:38  0:07:28  0:06:10 17.1M.8M.0M      0  0:13:42  0:07:57  0:05:45 13.3M    0     0  16.9M      0  0:13:50  0:08:10  0:05:40 11.5M8:12  0:05:40 9886k6.5M      0  0:14:08  0:08:24  0:05:44 4917k  0  16.2M      0  0:14:24  0:08:40  0:05:44 7954k  0     0  16.0M      0  0:14:33  0:08:51  0:05:42 8669k   0  16.0M      0  0:14:36  0:08:55  0:05:41 7854k   0  0:14:38  0:08:56  0:05:42 6775k  0  15.9M      0  0:14:42  0:09:01  0:05:41 8377k 0     0  15.7M      0  0:14:50  0:09:16  0:05:34 11.4M8M    0     0  15.7M      0  0:14:52  0:09:19  0:05:33 11.3M  15.7M      0  0:14:52  0:09:20  0:05:32 11.6M     0  15.7M      0  0:14:54  0:09:25  0:05:29 11.5MM    0     0  15.6M      0  0:14:57  0:09:33  0:05:24 10.9M0  0:15:13  0:10:04  0:05:09 12.8M8M     0  0:15:14  0:10:22  0:04:52 16.4M1G    0     0  15.4M      0  0:15:07  0:11:10  0:03:57 18.1M15.4M      0  0:15:11  0:11:47  0:03:24 14.0M5:19  0:12:11  0:03:08 15.0M0  15.2M      0  0:15:18  0:12:13  0:03:05 15.8M     0  15.2M      0  0:15:19  0:12:15  0:03:04 15.6M     0  15.2M      0  0:15:18  0:12:31  0:02:47 15.6M0     0  15.3M      0  0:15:13  0:13:04  0:02:09 18.7MM      0  0:15:06  0:13:21  0:01:45 21.1M  15.5M      0  0:15:04  0:13:33  0:01:31 17.0M     0  0:15:04  0:13:39  0:01:25 16.0M0     0  15.5M      0  0:15:03  0:13:43  0:01:20 15.4M     0  0:15:02  0:13:49  0:01:13 18.3M  0     0  15.5M      0  0:15:03  0:13:59  0:01:04 16.3M5  0:14:06  0:00:59 11.8M9G    0     0  15.5M      0  0:15:05  0:14:15  0:00:50 13.9M  15.4M      0  0:15:08  0:14:39  0:00:29 14.4M0  15.4M      0  0:15:08  0:14:50  0:00:18 15.1M  0  15.4M      0  0:15:07  0:14:52  0:00:15 15.9M4M      0  0:15:09  0:15:02  0:00:07 11.5M\n"
     ]
    }
   ],
   "source": [
    "!curl -o Uniref50.fasta https://ftp.uniprot.org/pub/databases/uniprot/uniref/uniref50/uniref50.fasta.gz"
   ]
  },
  {
   "cell_type": "code",
   "execution_count": 8,
   "id": "84a1d4fe",
   "metadata": {},
   "outputs": [],
   "source": [
    "def select_proteins_from_fasta(filepath, num_areas=5, proteins_per_area=20, max_length=100, total_proteins=100):\n",
    "    \"\"\"\n",
    "    Selects up to `total_proteins` proteins with sequence length < max_length,\n",
    "    sampling sequentially from `num_areas` locations in the file.\n",
    "    \"\"\"\n",
    "    # First pass: record sequence lengths\n",
    "    lengths = []\n",
    "    with open(filepath, 'r') as f:\n",
    "        name = None\n",
    "        seq = ''\n",
    "        for line in f:\n",
    "            if line.startswith('>'):\n",
    "                if name is not None:\n",
    "                    lengths.append(len(seq))\n",
    "                name = line[1:].strip()\n",
    "                seq = ''\n",
    "            else:\n",
    "                seq += line.strip()\n",
    "        if name is not None:\n",
    "            lengths.append(len(seq))\n",
    "\n",
    "    # Filter for proteins < max_length\n",
    "    valid_indices = [i for i, l in enumerate(lengths) if l < max_length]\n",
    "    if len(valid_indices) < total_proteins:\n",
    "        raise ValueError(f\"Not enough proteins < {max_length} residues in file.\")\n",
    "\n",
    "    # Divide valid indices into num_areas, keep sampling until 100\n",
    "    area_size = len(valid_indices) // num_areas\n",
    "    selected_indices = []\n",
    "    area_start = 0\n",
    "    while len(selected_indices) < total_proteins:\n",
    "        for area in range(num_areas):\n",
    "            start = area_start + area * area_size\n",
    "            end = min(start + proteins_per_area, len(valid_indices))\n",
    "            to_add = valid_indices[start:end]\n",
    "            selected_indices.extend(to_add)\n",
    "            if len(selected_indices) >= total_proteins:\n",
    "                selected_indices = selected_indices[:total_proteins]\n",
    "                break\n",
    "        area_start += proteins_per_area\n",
    "        if area_start >= area_size:\n",
    "            break\n",
    "\n",
    "    # Second pass: extract selected proteins\n",
    "    selected_set = set(selected_indices)\n",
    "    selected_names = []\n",
    "    selected_seqs = []\n",
    "    with open(filepath, 'r') as f:\n",
    "        idx = -1\n",
    "        name = None\n",
    "        seq = ''\n",
    "        for line in f:\n",
    "            if line.startswith('>'):\n",
    "                if name is not None:\n",
    "                    idx += 1\n",
    "                    if idx in selected_set:\n",
    "                        selected_names.append(name)\n",
    "                        selected_seqs.append(seq)\n",
    "                name = line[1:].strip().replace(' ', '_')\n",
    "                seq = ''\n",
    "            else:\n",
    "                seq += line.strip()\n",
    "        if name is not None:\n",
    "            idx += 1\n",
    "            if idx in selected_set:\n",
    "                selected_names.append(name)\n",
    "                selected_seqs.append(seq)\n",
    "    return selected_names, selected_seqs"
   ]
  },
  {
   "cell_type": "code",
   "execution_count": 9,
   "id": "1cdefdd0",
   "metadata": {},
   "outputs": [
    {
     "name": "stdout",
     "output_type": "stream",
     "text": [
      "Selected 100 proteins from 5 areas.\n"
     ]
    }
   ],
   "source": [
    "# Example usage:\n",
    "selected_names, selected_seqs = select_proteins_from_fasta('Uniref50.fasta')\n",
    "print(f\"Selected {len(selected_seqs)} proteins from 5 areas.\")"
   ]
  },
  {
   "cell_type": "code",
   "execution_count": null,
   "id": "3a885ebc",
   "metadata": {},
   "outputs": [],
   "source": [
    "def save_to_fasta(names, seqs, out_filepath):\n",
    "    with open(out_filepath, 'w') as f:\n",
    "        for name, seq in zip(names, seqs):\n",
    "            f.write(f\">{name}\\n\")\n",
    "            # Optionally wrap sequence lines at 60 chars for readability\n",
    "            for i in range(0, len(seq), 60):\n",
    "                f.write(seq[i:i+60] + \"\\n\")\n",
    "\n",
    "save_to_fasta(selected_names, selected_seqs, \"selected_proteins.fasta\")"
   ]
  },
  {
   "cell_type": "code",
   "execution_count": null,
   "id": "2e90938f",
   "metadata": {},
   "outputs": [],
   "source": []
  }
 ],
 "metadata": {
  "kernelspec": {
   "display_name": "embeddings_comp",
   "language": "python",
   "name": "python3"
  },
  "language_info": {
   "codemirror_mode": {
    "name": "ipython",
    "version": 3
   },
   "file_extension": ".py",
   "mimetype": "text/x-python",
   "name": "python",
   "nbconvert_exporter": "python",
   "pygments_lexer": "ipython3",
   "version": "3.10.6"
  }
 },
 "nbformat": 4,
 "nbformat_minor": 5
}
